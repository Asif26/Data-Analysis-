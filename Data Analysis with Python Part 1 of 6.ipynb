{
 "cells": [
  {
   "cell_type": "code",
   "execution_count": 2,
   "id": "336775b5",
   "metadata": {},
   "outputs": [
    {
     "data": {
      "text/plain": [
       "14"
      ]
     },
     "execution_count": 2,
     "metadata": {},
     "output_type": "execute_result"
    }
   ],
   "source": [
    "2+3+9"
   ]
  },
  {
   "cell_type": "code",
   "execution_count": 3,
   "id": "cae626e7",
   "metadata": {},
   "outputs": [
    {
     "data": {
      "text/plain": [
       "26"
      ]
     },
     "execution_count": 3,
     "metadata": {},
     "output_type": "execute_result"
    }
   ],
   "source": [
    "99 -73"
   ]
  },
  {
   "cell_type": "code",
   "execution_count": 4,
   "id": "3b1f051c",
   "metadata": {},
   "outputs": [
    {
     "data": {
      "text/plain": [
       "-33709.28"
      ]
     },
     "execution_count": 4,
     "metadata": {},
     "output_type": "execute_result"
    }
   ],
   "source": [
    "23.54 * -1432"
   ]
  },
  {
   "cell_type": "code",
   "execution_count": 5,
   "id": "b7bd7b02",
   "metadata": {},
   "outputs": [
    {
     "data": {
      "text/plain": [
       "14.285714285714286"
      ]
     },
     "execution_count": 5,
     "metadata": {},
     "output_type": "execute_result"
    }
   ],
   "source": [
    "100/7"
   ]
  },
  {
   "cell_type": "code",
   "execution_count": 6,
   "id": "7c150f54",
   "metadata": {},
   "outputs": [
    {
     "data": {
      "text/plain": [
       "14"
      ]
     },
     "execution_count": 6,
     "metadata": {},
     "output_type": "execute_result"
    }
   ],
   "source": [
    "100//7"
   ]
  },
  {
   "cell_type": "code",
   "execution_count": 7,
   "id": "05940d38",
   "metadata": {},
   "outputs": [
    {
     "data": {
      "text/plain": [
       "2"
      ]
     },
     "execution_count": 7,
     "metadata": {},
     "output_type": "execute_result"
    }
   ],
   "source": [
    "100 % 7"
   ]
  },
  {
   "cell_type": "code",
   "execution_count": 8,
   "id": "8f998a62",
   "metadata": {},
   "outputs": [
    {
     "data": {
      "text/plain": [
       "125"
      ]
     },
     "execution_count": 8,
     "metadata": {},
     "output_type": "execute_result"
    }
   ],
   "source": [
    "5 ** 3"
   ]
  },
  {
   "cell_type": "code",
   "execution_count": 9,
   "id": "751b4658",
   "metadata": {},
   "outputs": [
    {
     "data": {
      "text/plain": [
       "1.53125"
      ]
     },
     "execution_count": 9,
     "metadata": {},
     "output_type": "execute_result"
    }
   ],
   "source": [
    "((2 + 5) * (17 - 3) / (4 ** 3))"
   ]
  },
  {
   "cell_type": "code",
   "execution_count": 10,
   "id": "5f1c96df",
   "metadata": {},
   "outputs": [
    {
     "data": {
      "text/plain": [
       "125.0"
      ]
     },
     "execution_count": 10,
     "metadata": {},
     "output_type": "execute_result"
    }
   ],
   "source": [
    "500 * (.2 * 1.25)"
   ]
  },
  {
   "cell_type": "code",
   "execution_count": 11,
   "id": "bce18c55",
   "metadata": {},
   "outputs": [],
   "source": [
    "cost_of_ice_bag = 1.25"
   ]
  },
  {
   "cell_type": "code",
   "execution_count": 12,
   "id": "ed48867f",
   "metadata": {},
   "outputs": [],
   "source": [
    "profit_magin = .2"
   ]
  },
  {
   "cell_type": "code",
   "execution_count": 13,
   "id": "420a1c75",
   "metadata": {},
   "outputs": [],
   "source": [
    "number_of_bages = 500"
   ]
  },
  {
   "cell_type": "code",
   "execution_count": 14,
   "id": "536bc9e8",
   "metadata": {},
   "outputs": [
    {
     "data": {
      "text/plain": [
       "1.25"
      ]
     },
     "execution_count": 14,
     "metadata": {},
     "output_type": "execute_result"
    }
   ],
   "source": [
    "cost_of_ice_bag  "
   ]
  },
  {
   "cell_type": "code",
   "execution_count": 15,
   "id": "5b58b207",
   "metadata": {},
   "outputs": [
    {
     "data": {
      "text/plain": [
       "0.2"
      ]
     },
     "execution_count": 15,
     "metadata": {},
     "output_type": "execute_result"
    }
   ],
   "source": [
    "profit_magin"
   ]
  },
  {
   "cell_type": "code",
   "execution_count": 16,
   "id": "72d34ea3",
   "metadata": {},
   "outputs": [
    {
     "data": {
      "text/plain": [
       "500"
      ]
     },
     "execution_count": 16,
     "metadata": {},
     "output_type": "execute_result"
    }
   ],
   "source": [
    "number_of_bages"
   ]
  },
  {
   "cell_type": "code",
   "execution_count": 17,
   "id": "c9cf8093",
   "metadata": {},
   "outputs": [],
   "source": [
    " profit_per_bag = cost_of_ice_bag * profit_magin"
   ]
  },
  {
   "cell_type": "code",
   "execution_count": 18,
   "id": "7f9ab035",
   "metadata": {},
   "outputs": [
    {
     "data": {
      "text/plain": [
       "0.25"
      ]
     },
     "execution_count": 18,
     "metadata": {},
     "output_type": "execute_result"
    }
   ],
   "source": [
    "profit_per_bag"
   ]
  },
  {
   "cell_type": "code",
   "execution_count": 19,
   "id": "e6691718",
   "metadata": {},
   "outputs": [],
   "source": [
    "total_profit = number_of_bages * profit_per_bag"
   ]
  },
  {
   "cell_type": "code",
   "execution_count": 20,
   "id": "8988deea",
   "metadata": {},
   "outputs": [
    {
     "data": {
      "text/plain": [
       "125.0"
      ]
     },
     "execution_count": 20,
     "metadata": {},
     "output_type": "execute_result"
    }
   ],
   "source": [
    "total_profit"
   ]
  },
  {
   "cell_type": "code",
   "execution_count": 21,
   "id": "266c40db",
   "metadata": {},
   "outputs": [],
   "source": [
    " net_profit = 2"
   ]
  },
  {
   "cell_type": "code",
   "execution_count": 22,
   "id": "ca7a2d71",
   "metadata": {},
   "outputs": [
    {
     "name": "stdout",
     "output_type": "stream",
     "text": [
      "The grocery store make a total profit of $ 125.0\n"
     ]
    }
   ],
   "source": [
    "print(\"The grocery store make a total profit of $\",total_profit)"
   ]
  },
  {
   "cell_type": "code",
   "execution_count": 24,
   "id": "17a97d28",
   "metadata": {},
   "outputs": [
    {
     "name": "stdout",
     "output_type": "stream",
     "text": [
      "The grocery store makes atotal profit of $ 125.0\n"
     ]
    }
   ],
   "source": [
    "# stor input data in variables\n",
    "cost_of_ice_bag = 1.25\n",
    "profit_magin = .2\n",
    "number_of_bages =500\n",
    "\n",
    "# perform the required calculation\n",
    "profit_per_bag = cost_of_ice_bag * profit_magin\n",
    "total_profit = number_of_bages * profit_per_bag\n",
    "\n",
    "# Diplay the result\n",
    "print(\"The grocery store makes atotal profit of $\",total_profit)"
   ]
  },
  {
   "cell_type": "code",
   "execution_count": 25,
   "id": "ef43ab5b",
   "metadata": {},
   "outputs": [],
   "source": [
    "my_favorite_number = 1 # an inline comment"
   ]
  },
  {
   "cell_type": "code",
   "execution_count": 26,
   "id": "e873e0cd",
   "metadata": {},
   "outputs": [],
   "source": [
    "# This comment gets its own line\n",
    "my_least_favorite_number = 3\n"
   ]
  },
  {
   "cell_type": "code",
   "execution_count": 29,
   "id": "138de958",
   "metadata": {},
   "outputs": [
    {
     "name": "stdout",
     "output_type": "stream",
     "text": [
      "hello_World!\n"
     ]
    }
   ],
   "source": [
    "\"\"\"This is multi line coment.\n",
    "comments are helpfull for people reading your code\"\"\"\n",
    "print('hello_World!')"
   ]
  },
  {
   "cell_type": "markdown",
   "id": "76886418",
   "metadata": {},
   "source": [
    "## Evaluting conditions using Python"
   ]
  },
  {
   "cell_type": "code",
   "execution_count": 30,
   "id": "15815543",
   "metadata": {},
   "outputs": [
    {
     "data": {
      "text/plain": [
       "False"
      ]
     },
     "execution_count": 30,
     "metadata": {},
     "output_type": "execute_result"
    }
   ],
   "source": [
    "5 == 3"
   ]
  },
  {
   "cell_type": "code",
   "execution_count": 31,
   "id": "4d0fd22e",
   "metadata": {},
   "outputs": [],
   "source": [
    "my_favorite_number = 1\n",
    "my_least_favorite_number =5\n",
    "a_natural_nmuber = 3"
   ]
  },
  {
   "cell_type": "code",
   "execution_count": 32,
   "id": "5eab8d47",
   "metadata": {},
   "outputs": [
    {
     "data": {
      "text/plain": [
       "True"
      ]
     },
     "execution_count": 32,
     "metadata": {},
     "output_type": "execute_result"
    }
   ],
   "source": [
    "## Equality check - True\n",
    "my_favorite_number == 1"
   ]
  },
  {
   "cell_type": "code",
   "execution_count": 33,
   "id": "6388b6a6",
   "metadata": {},
   "outputs": [
    {
     "data": {
      "text/plain": [
       "False"
      ]
     },
     "execution_count": 33,
     "metadata": {},
     "output_type": "execute_result"
    }
   ],
   "source": [
    "# not equality check -False\n",
    "my_favorite_number == my_least_favorite_number"
   ]
  },
  {
   "cell_type": "code",
   "execution_count": null,
   "id": "77701f7a",
   "metadata": {},
   "outputs": [],
   "source": [
    "# Not Equal check true"
   ]
  }
 ],
 "metadata": {
  "kernelspec": {
   "display_name": "Python 3 (ipykernel)",
   "language": "python",
   "name": "python3"
  },
  "language_info": {
   "codemirror_mode": {
    "name": "ipython",
    "version": 3
   },
   "file_extension": ".py",
   "mimetype": "text/x-python",
   "name": "python",
   "nbconvert_exporter": "python",
   "pygments_lexer": "ipython3",
   "version": "3.9.7"
  }
 },
 "nbformat": 4,
 "nbformat_minor": 5
}
